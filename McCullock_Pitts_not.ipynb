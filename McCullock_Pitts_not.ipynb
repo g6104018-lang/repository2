#0,0) → suma = 0 → < 1 → salida = 0

#(0,1) → suma = 1 → ≥ 1 → salida = 1

#(1,0) → suma = 1 → ≥ 1 → salida = 1

#(1,1) → suma = 2 → ≥ 1 → salida = 1 indica la "fuerza de activación".
{
  "nbformat": 4,
  "nbformat_minor": 0,
  "metadata": {
    "colab": {
      "provenance": [],
      "authorship_tag": "ABX9TyPdppoKS2liFiWYhdlhIpmN",
      "include_colab_link": true
    },
    "kernelspec": {
      "name": "python3",
      "display_name": "Python 3"
    },
    "language_info": {
      "name": "python"
    }
  },
  "cells": [
    {
      "cell_type": "markdown",
      "metadata": {
        "id": "view-in-github",
        "colab_type": "text"
      },
      "source": [
        "<a href=\"https://colab.research.google.com/github/g6104018-lang/repository2/blob/main/McCullock_Pitts_not.ipynb\" target=\"_parent\"><img src=\"https://colab.research.google.com/assets/colab-badge.svg\" alt=\"Open In Colab\"/></a>"
      ]
    },
    {
      "cell_type": "code",
      "execution_count": 1,
      "metadata": {
        "colab": {
          "base_uri": "https://localhost:8080/"
        },
        "id": "4t8d2_VfBrXI",
        "outputId": "edb80904-d784-42be-fe26-45e18516c950"
      },
      "outputs": [
        {
          "output_type": "stream",
          "name": "stdout",
          "text": [
            "Input: [0], Weighted Sum: 0\n",
            "Input: [1], Weighted Sum: -1\n",
            "Predictions: [1, 0]\n",
            "Expected:    [1, 0]\n"
          ]
        }
      ],
      "source": [
        "import numpy as np\n",
        "\n",
        "# Entradas para la neurona (NOT solo necesita 1 entrada)\n",
        "X = np.array([\n",
        "    [0],\n",
        "    [1]\n",
        "])\n",
        "\n",
        "# Salidas esperadas para la operación lógica NOT\n",
        "Y = np.array([1, 0])\n",
        "\n",
        "# Pesos (negativos para invertir la señal)\n",
        "W = [-1]\n",
        "\n",
        "# Umbral\n",
        "umbral = 0\n",
        "\n",
        "class McCullochPitts:\n",
        "    def __init__(self, weights, umbral):\n",
        "        self.weights = weights\n",
        "        self.umbral = umbral\n",
        "\n",
        "    def predict(self, X):\n",
        "        predictions = []\n",
        "        for i in range(X.shape[0]):\n",
        "            weighted_sum = np.dot(self.weights, X[i])\n",
        "            print(f\"Input: {X[i]}, Weighted Sum: {weighted_sum}\")\n",
        "            if weighted_sum >= self.umbral:\n",
        "                predictions.append(1)\n",
        "            else:\n",
        "                predictions.append(0)\n",
        "        return predictions\n",
        "\n",
        "# Instanciamos la neurona\n",
        "mcp = McCullochPitts(W, umbral)\n",
        "\n",
        "# Calculamos las predicciones\n",
        "predictions = mcp.predict(X)\n",
        "\n",
        "# Mostramos resultados\n",
        "print(\"Predictions:\", predictions)\n",
        "print(\"Expected:   \", Y.tolist())\n"
      ]
    }
  ]
}
