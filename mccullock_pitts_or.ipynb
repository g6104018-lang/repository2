{
  "nbformat": 4,
  "nbformat_minor": 0,
  "metadata": {
    "colab": {
      "provenance": [],
      "authorship_tag": "ABX9TyNzRK4y+mpP+DxEmuSYQ+lH",
      "include_colab_link": true
    },
    "kernelspec": {
      "name": "python3",
      "display_name": "Python 3"
    },
    "language_info": {
      "name": "python"
    }
  },
  "cells": [
    {
      "cell_type": "markdown",
      "metadata": {
        "id": "view-in-github",
        "colab_type": "text"
      },
      "source": [
        "<a href=\"https://colab.research.google.com/github/g6104018-lang/repository2/blob/main/mccullock_pitts_or.ipynb\" target=\"_parent\"><img src=\"https://colab.research.google.com/assets/colab-badge.svg\" alt=\"Open In Colab\"/></a>"
      ]
    },
    {
      "cell_type": "code",
      "source": [
        "import numpy as np\n",
        "\n",
        "# Entradas para la neurona\n",
        "X = np.array([\n",
        "    [0, 0],\n",
        "    [0, 1],\n",
        "    [1, 0],\n",
        "    [1, 1]\n",
        "])\n",
        "\n",
        "# Salidas esperadas para la operación lógica OR\n",
        "Y = np.array([0, 1, 1, 1])\n",
        "\n",
        "# Pesos para las entradas\n",
        "W = [1, 1]\n",
        "\n",
        "# Umbral para la función de activación para la operación OR\n",
        "umbral = 1\n",
        "\n",
        "class McCullochPitts:\n",
        "    def __init__(self, weights, umbral):\n",
        "        \"\"\"\n",
        "        Constructor de la neurona MCP.\n",
        "        \"\"\"\n",
        "        self.weights = weights\n",
        "        self.umbral = umbral\n",
        "\n",
        "    def predict(self, X):\n",
        "        \"\"\"\n",
        "        Calcula la salida de la neurona para cada fila de entradas X.\n",
        "        \"\"\"\n",
        "        predictions = []\n",
        "        for i in range(X.shape[0]):\n",
        "            weighted_sum = np.dot(self.weights, X[i])\n",
        "            print(f\"Input: {X[i]}, Weighted Sum: {weighted_sum}\")\n",
        "            if weighted_sum >= self.umbral:\n",
        "                predictions.append(1)\n",
        "            else:\n",
        "                predictions.append(0)\n",
        "        return predictions\n",
        "\n",
        "# Instanciamos la neurona\n",
        "mcp = McCullochPitts(W, umbral)\n",
        "\n",
        "# Calculamos las predicciones\n",
        "predictions = mcp.predict(X)\n",
        "\n",
        "# Mostramos el resultado final\n",
        "print(\"Predictions:\", predictions)\n",
        "print(\"Expected:   \", Y.tolist())\n",
        "##La neurona se activa si al menos una entrada es 1, justo como el OR.\n",
        "##(0,0) → suma = 0 → < 1 → salida = 0\n",
        "\n",
        "#(0,1) → suma = 1 → ≥ 1 → salida = 1\n",
        "\n",
        "#(1,0) → suma = 1 → ≥ 1 → salida = 1\n",
        "\n",
        "#(1,1) → suma = 2 → ≥ 1 → salida = 1\n"
      ],
      "metadata": {
        "colab": {
          "base_uri": "https://localhost:8080/"
        },
        "id": "vPXTxp5bBBtg",
        "outputId": "9366ccba-73f1-4375-a829-f905654e7ec0"
      },
      "execution_count": null,
      "outputs": [
        {
          "output_type": "stream",
          "name": "stdout",
          "text": [
            "Input: [0 0], Weighted Sum: 0\n",
            "Input: [0 1], Weighted Sum: 1\n",
            "Input: [1 0], Weighted Sum: 1\n",
            "Input: [1 1], Weighted Sum: 2\n",
            "Predictions: [0, 1, 1, 1]\n",
            "Expected:    [0, 1, 1, 1]\n"
          ]
        }
      ]
    }
  ]
}